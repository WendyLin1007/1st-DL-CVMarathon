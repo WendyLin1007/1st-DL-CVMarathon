{
 "cells": [
  {
   "cell_type": "markdown",
   "metadata": {},
   "source": [
    "## Keras-ImageDataGenerator"
   ]
  },
  {
   "cell_type": "markdown",
   "metadata": {},
   "source": [
    "## 『本次練習內容』\n",
    "#### 學習使用Keras-ImageDataGenerator 與 Imgaug 做圖像增強"
   ]
  },
  {
   "cell_type": "markdown",
   "metadata": {},
   "source": [
    "## 『本次練習目的』\n",
    "  #### 熟悉Image Augmentation的實作方法\n",
    "  #### 瞭解如何導入Imgae Augmentation到原本NN架構中"
   ]
  },
  {
   "cell_type": "markdown",
   "metadata": {},
   "source": [
    "---"
   ]
  },
  {
   "cell_type": "markdown",
   "metadata": {},
   "source": [
    "## 第一 Part"
   ]
  },
  {
   "cell_type": "code",
   "execution_count": null,
   "metadata": {
    "collapsed": true
   },
   "outputs": [],
   "source": [
    "from keras.preprocessing.image import ImageDataGenerator\n",
    "from keras.layers import Convolution2D\n",
    "from keras.layers import MaxPooling2D\n",
    "from keras.layers import Flatten\n",
    "from keras.layers import Dense\n",
    "from keras.layers import Dropout\n",
    "from keras.layers import BatchNormalization\n",
    "from keras.models import Sequential\n",
    "import matplotlib.pyplot as plt\n",
    "import numpy as np\n",
    "import cv2\n",
    "%matplotlib inline\n",
    "\n",
    "##定義使用的Augmentation\n",
    "#img_gen = ImageDataGenerator(featurewise_center=True,featurewise_std_normalization=True,rotation_range=10,width_shift_range=0.1,height_shift_range=0.1,shear_range=0.1,zoom_range=0.1,horizontal_ﬂip=True,vertical_ﬂip=False,dtype=np.ﬂoat32)\n",
    "img_gen=ImageDataGenerator(featurewise_center=True,featurewise_std_normalization=True,rotation_range=10,width_shift_range=0.1,height_shift_range=0.1,shear_range=0.1,zoom_range=0.1,horizontal_ﬂip=True,vertical_ﬂip=False)\n",
    "width=224\n",
    "height=224\n",
    "batch_size=4\n",
    "\n",
    "img = cv2.imread('Tano.JPG')  \n",
    "img = cv2.resize(img, (224,224))##改變圖片尺寸\n",
    "img = cv2.cvtColor(img, cv2.COLOR_BGR2RGB) #Cv2讀進來是BGR，轉成RGB\n",
    "img_origin=img.copy()\n",
    "img= np.array(img, dtype=np.float32)\n",
    "img_combine=np.array([img,img,img,img],dtype=np.uint8) ##輸入generator要是四維，(224,224,3)變成(4,224,224,3)\n",
    "batch_gen = img_gen.flow(img_combine, batch_size=4)\n",
    "assert next(batch_gen).shape==(batch_size, width, height, 3)\n",
    "\n",
    "plt.figure(figsize=(20,10))\n",
    "i = 1\n",
    "for batch in batch_gen:\n",
    "    plt.subplot(1, 5, 1)\n",
    "    plt.imshow(img_origin) ##原圖\n",
    "    plt.subplot(1, 5, i+1)\n",
    "    plt.imshow(batch[0, :, :, :].astype(np.uint8))\n",
    "    plt.imshow(batch[1, :, :, :].astype(np.uint8))\n",
    "    plt.imshow(batch[2, :, :, :].astype(np.uint8))\n",
    "    plt.imshow(batch[3, :, :, :].astype(np.uint8))\n",
    "    plt.axis('off')\n",
    "    i += 1\n",
    "    if i > 4:\n",
    "        break  # or the generator would loop infinitely"
   ]
  },
  {
   "cell_type": "markdown",
   "metadata": {},
   "source": [
    "## 示範如何導入ImageDataGenerator到Keras訓練中"
   ]
  },
  {
   "cell_type": "code",
   "execution_count": null,
   "metadata": {
    "collapsed": true
   },
   "outputs": [],
   "source": [
    "#Training Generator\n",
    "train_datagen = ImageDataGenerator(rescale = 2,shear_range = 0.2,zoom_range = 0.2,horizontal_flip = True)\n",
    "#Test Generator，只需要Rescale，不需要其他增強\n",
    "test_datagen = ImageDataGenerator(rescale = 1./255)\n",
    "\n",
    "#將路徑給Generator，自動產生Label\n",
    "training_set = train_datagen.flow_from_directory('dataset/training_set',\n",
    "                                                 target_size = (64, 64),\n",
    "                                                 batch_size = 32,\n",
    "                                                 class_mode = 'categorical')\n",
    "\n",
    "test_set = test_datagen.flow_from_directory('dataset/test_set',\n",
    "                                            target_size = (64, 64),\n",
    "                                            batch_size = 32,\n",
    "                                            class_mode = 'categorical')\n",
    "classifier=Sequential()\n",
    "input_shape=(32,32,3)\n",
    "\n",
    "\n",
    "#卷積組合\n",
    "classifier.add(Convolution2D(512, kernel_size=(3,3), padding='valid',input_shape=input_shape,activation='relu'))#32,3,3,input_shape=(32,32,3),activation='relu''\n",
    "classifier.add(BatchNormalization())\n",
    "classifier.add(Dropout(0.25))\n",
    "#卷積組合\n",
    "classifier.add(Convolution2D(512, kernel_size=(3, 3), padding='valid',activation='relu'))\n",
    "classifier.add(BatchNormalization())\n",
    "classifier.add(Convolution2D(512, kernel_size=(3, 3), padding='valid',activation='relu'))\n",
    "'''自己決定MaxPooling2D放在哪裡'''\n",
    "classifier.add(MaxPooling2D(pool_size=(3,3)))\n",
    "#卷積組合\n",
    "classifier.add(Convolution2D(64, kernel_size=(3,3), padding='valid',activation='relu'))#32,3,3,input_shape=(32,32,3),activation='relu''\n",
    "classifier.add(Dropout(0.25))\n",
    "#flatten\n",
    "classifier.add(Flatten())\n",
    "#FC\n",
    "classifier.add(Dense(output_dim=100,activation='relu')) #output_dim=100,activation=relu\n",
    "classifier.add(BatchNormalization())\n",
    "classifier.add(Dropout(0.25))\n",
    "#輸出\n",
    "classifier.add(Dense(output_dim=10,activation='softmax'))\n",
    "\n",
    "classifier.compile(optimizer = 'adam', loss = 'categorical_crossentropy', metrics = ['accuracy'])\n",
    "#訓練\n",
    "classifier.fit_generator(training_set,steps_per_epoch = 250,nb_epoch = 25,\n",
    "                         validation_data = None,validation_steps = 63)"
   ]
  },
  {
   "cell_type": "code",
   "execution_count": null,
   "metadata": {
    "collapsed": true
   },
   "outputs": [],
   "source": [
    "#預測新照片\n",
    "from keras.preprocessing import image as image_utils\n",
    "test_image = image_utils.load_img('dataset/new_images/new_picture.jpg', target_size=(224, 224))\n",
    "test_image = image_utils.img_to_array(test_image)\n",
    "test_image = np.expand_dims(test_image, axis=0) \n",
    "\n",
    "result = classifier.predict_on_batch(test_image)"
   ]
  },
  {
   "cell_type": "markdown",
   "metadata": {},
   "source": [
    "---"
   ]
  },
  {
   "cell_type": "markdown",
   "metadata": {},
   "source": [
    "## 練習使用Imgaug"
   ]
  },
  {
   "cell_type": "markdown",
   "metadata": {},
   "source": [
    "#### 使用單項增強"
   ]
  },
  {
   "cell_type": "code",
   "execution_count": null,
   "metadata": {
    "collapsed": true
   },
   "outputs": [],
   "source": [
    "from imgaug import augmenters as iaa\n",
    "import matplotlib.pyplot as plt\n",
    "import numpy as np\n",
    "import cv2\n",
    "\n",
    "img = cv2.imread('Tano.JPG')  \n",
    "img = cv2.resize(img, (224,224))##改變圖片尺寸\n",
    "img = cv2.cvtColor(img, cv2.COLOR_BGR2RGB) #Cv2讀進來是BGR，轉成RGB\n",
    "img_origin=img.copy()\n",
    "img= np.array(img, dtype=np.float32)\n",
    "\n",
    "images = np.random.randint(0, 255, (5, 224, 224, 3), dtype=np.uint8)##創造一個array size==(5, 224, 224, 3)\n",
    "\n",
    "flipper = iaa.Fliplr(1.0) #水平翻轉機率==1.0\n",
    "images[0] = flipper.augment_image(img) \n",
    "\n",
    "vflipper = iaa.Flipud('''填入''') #垂直翻轉機率40%\n",
    "images[1] = vflipper.augment_image(img) \n",
    "\n",
    "blurer = iaa.GaussianBlur(3.0)\n",
    "images[2] = blurer.augment_image(img) # 高斯模糊圖像( sigma of 3.0)\n",
    "\n",
    "translater = iaa.Affine(translate_px={\"x\": -16}) #向左橫移16個像素\n",
    "images[3] = translater.augment_image(img) \n",
    "\n",
    "scaler = iaa.Affine(scale={\"y\":'''填入'''}) # 縮放照片，區間(0.8-1.2倍)\n",
    "images[4] = scaler.augment_image(img)\n",
    "\n",
    "i=1\n",
    "plt.figure(figsize=(20,20))\n",
    "for image in images:\n",
    "    plt.subplot(1, 6, 1)\n",
    "    plt.imshow(img_origin.astype(np.uint8))\n",
    "    plt.subplot(1, 6, i+1)\n",
    "    plt.imshow(image.astype(np.uint8))\n",
    "    plt.axis('off')\n",
    "    i+=1"
   ]
  },
  {
   "cell_type": "markdown",
   "metadata": {},
   "source": [
    "---"
   ]
  },
  {
   "cell_type": "markdown",
   "metadata": {},
   "source": [
    "## 第二Part"
   ]
  },
  {
   "cell_type": "markdown",
   "metadata": {},
   "source": [
    "#### 打包多種Augmentation"
   ]
  },
  {
   "cell_type": "markdown",
   "metadata": {},
   "source": [
    "#### 請學員自行練習新增以及改變Augmentation內容\n",
    "#### 可參考Github: https://github.com/aleju/imgaug"
   ]
  },
  {
   "cell_type": "code",
   "execution_count": null,
   "metadata": {
    "collapsed": true
   },
   "outputs": [],
   "source": [
    "import numpy as np\n",
    "import imgaug as ia\n",
    "import imgaug.augmenters as iaa\n",
    "import matplotlib.pyplot as plt\n",
    "%matplotlib inline\n",
    "\n",
    "##輸入照片\n",
    "img = cv2.imread('Tano.JPG')  \n",
    "img = cv2.resize(img, (224,224))##改變圖片尺寸\n",
    "img = cv2.cvtColor(img, cv2.COLOR_BGR2RGB) #Cv2讀進來是BGR，轉成RGB\n",
    "img_origin=img.copy()\n",
    "img= np.array(img, dtype=np.float32)\n",
    "\n",
    "img_combine=np.array([img,img,img,img],dtype=np.float32) \n",
    "\n",
    "sometimes = lambda aug: iaa.Sometimes(0.5, aug) # Sometimes(0.5, ...) 代表每次都有50%的機率運用不同的Augmentation\n",
    "\n",
    "##包裝想運用之圖像強化方式\n",
    "seq = iaa.Sequential([\n",
    "    iaa.Crop(px=(0, 16)),\n",
    "    iaa.Fliplr(0.4), \n",
    "   sometimes(iaa.CropAndPad(\n",
    "        percent=(-0.05, 0.1),\n",
    "        pad_mode=ia.ALL,\n",
    "        pad_cval=(0, 255)\n",
    "    )),\n",
    "    sometimes(iaa.Affine(\n",
    "        scale={\"x\": (0.8, 1.2), \"y\": (0.8, 1.2)}, \n",
    "        translate_percent={\"x\": (-0.2, 0.2), \"y\": (-0.2, 0.2)}, \n",
    "        rotate=(-10, 10),\n",
    "        shear=(-8, 8), \n",
    "        order=[0, 1], \n",
    "        cval=(0, 255),\n",
    "        mode=ia.ALL \n",
    "    )),\n",
    "    sometimes(iaa.Superpixels(p_replace=(0, 1.0), n_segments=(20, 200))), # convert images into their superpixel representation\n",
    "    sometimes(iaa.OneOf([\n",
    "    iaa.GaussianBlur((0, 3.0)), # blur images \n",
    "                    iaa.AverageBlur(k=(1,3)), # blur image using local means with kernel sizes between 1 and 3\n",
    "                    iaa.MedianBlur(k=(3, 5)), # blur image using local medians with kernel sizes between 3 and 5\n",
    "                ])),\n",
    "     sometimes(iaa.Sharpen(alpha=(0, 0.2), lightness=(0.1, 0.4))), # sharpen images\n",
    "     sometimes(iaa.Emboss(alpha=(0, 0.3), strength=(0, 0.5))), # emboss images\n",
    "    ],random_order=True)\n",
    "\n",
    "\n",
    "\n",
    "images_aug = seq.augment_images(img_combine) ## Image Augmentation\n",
    "\n",
    "##畫出來\n",
    "i=1\n",
    "plt.figure(figsize=(20,20))\n",
    "for image in images_aug:\n",
    "    plt.subplot(1, 5, 1)\n",
    "    plt.imshow(img_origin.astype(np.uint8))\n",
    "    plt.subplot(1, 5, i+1)\n",
    "    plt.imshow(image.astype(np.uint8))\n",
    "    plt.axis('off')\n",
    "    i+=1"
   ]
  },
  {
   "cell_type": "markdown",
   "metadata": {},
   "source": [
    "## 包裝自定義Augmentation 與 Imgaug Augmentation"
   ]
  },
  {
   "cell_type": "code",
   "execution_count": null,
   "metadata": {
    "collapsed": true
   },
   "outputs": [],
   "source": [
    "from PIL import Image\n",
    "import os\n",
    "import pickle\n",
    "import numpy as np\n",
    "import cv2\n",
    "import glob\n",
    "import pandas as pd\n",
    "import time\n",
    "import random\n",
    "import imgaug as ia\n",
    "import imgaug.augmenters as iaa\n",
    "\n",
    "'''隨機改變亮度'''    \n",
    "class RandomBrightness(object):\n",
    "    '''Function to randomly make image brighter or darker\n",
    "    Parameters\n",
    "    ----------\n",
    "    delta: float\n",
    "        the bound of random.uniform distribution\n",
    "    '''\n",
    "    def __init__(self, delta=16):\n",
    "        assert 0 <= delta <= 255\n",
    "        self.delta = delta\n",
    "\n",
    "    def __call__(self, image):\n",
    "        delta = random.uniform(-self.delta, self.delta)\n",
    "        if random.randint(0, 1):\n",
    "            image = image + delta\n",
    "        image = np.clip(image, 0.0, 255.0)\n",
    "        return image\n",
    "    \n",
    "'''隨機改變對比'''\n",
    "class RandomContrast(object):\n",
    "    '''Function to strengthen or weaken the contrast in each image\n",
    "    Parameters\n",
    "    ----------\n",
    "    lower: float\n",
    "        lower bound of random.uniform distribution\n",
    "    upper: float\n",
    "        upper bound of random.uniform distribution\n",
    "    '''\n",
    "    def __init__(self, lower=0.5, upper=1.5):\n",
    "        assert upper >= lower, \"contrast upper must be >= lower.\"\n",
    "        assert lower >= 0, \"contrast lower must be non-negative.\"\n",
    "        self.lower = lower\n",
    "        self.upper = upper\n",
    "\n",
    "    def __call__(self, image):\n",
    "        alpha = random.uniform(self.lower, self.upper)\n",
    "        if random.randint(0, 1):\n",
    "            image = image * alpha\n",
    "        image = np.clip(image, 0.0, 255.0)\n",
    "        return image\n",
    "    \n",
    "'''包裝所有Augmentation'''\n",
    "class Compose(object):\n",
    "    def __init__(self, transforms):\n",
    "        self.transforms = transforms\n",
    "\n",
    "    def __call__(self, image):\n",
    "        for t in self.transforms:\n",
    "            image= t(image)\n",
    "        return image\n",
    "\n",
    "'''包裝Imgaug'''\n",
    "class ImgAugSequence(object):\n",
    "    def __init__(self, sequence):\n",
    "        self.sequence = sequence\n",
    "\n",
    "    def __call__(self, image):\n",
    "        image = self.sequence.augment_image(image)\n",
    "      \n",
    "        return image\n",
    "    \n",
    "class TrainAugmentations(object):\n",
    "    def __init__(self):\n",
    "        #Define imgaug.augmenters Sequential transforms\n",
    "        sometimes = lambda aug: iaa.Sometimes(0.4, aug) # applies the given augmenter in 50% of all cases\n",
    "\n",
    "        img_seq = iaa.Sequential([\n",
    "             sometimes(iaa.AdditiveGaussianNoise(loc=0, scale=(0.0, 0.03*255), per_channel=0.5)),\n",
    "             sometimes(iaa.ContrastNormalization((0.5, 2.0), per_channel=1),),\n",
    "             sometimes(iaa.Sharpen(alpha=(0, 0.2), lightness=(0.1, 0.4))), # sharpen images\n",
    "             sometimes(iaa.Emboss(alpha=(0, 0.3), strength=(0, 0.5))), # emboss images\n",
    "            ],random_order=True)\n",
    "        \n",
    "        self.aug_pipeline = Compose([\n",
    "            RandomBrightness(16), #make image brighter or darker\n",
    "            RandomContrast(0.9, 1.1), #strengthen or weaken the contrast in each image\n",
    "            ImgAugSequence(img_seq),\n",
    "        ])\n",
    "        \n",
    "\n",
    "    def __call__(self, image):\n",
    "        image= self.aug_pipeline(image)\n",
    "        return image\n",
    "    \n",
    "Augmenation=TrainAugmentations()"
   ]
  },
  {
   "cell_type": "code",
   "execution_count": null,
   "metadata": {
    "collapsed": true
   },
   "outputs": [],
   "source": [
    "import numpy as np\n",
    "import imgaug as ia\n",
    "import imgaug.augmenters as iaa\n",
    "import matplotlib.pyplot as plt\n",
    "%matplotlib inline\n",
    "\n",
    "##輸入照片\n",
    "img = cv2.imread('Tano.JPG')  \n",
    "img = cv2.resize(img, (224,224))##改變圖片尺寸\n",
    "img = cv2.cvtColor(img, cv2.COLOR_BGR2RGB) #Cv2讀進來是BGR，轉成RGB\n",
    "\n",
    "output=Augmenation(img) \n",
    "\n",
    "##畫出來\n",
    "plt.figure(figsize=(10,10))\n",
    "for image in images_aug:\n",
    "    plt.imshow(output.astype(np.uint8))\n",
    "    plt.axis('off')\n"
   ]
  },
  {
   "cell_type": "markdown",
   "metadata": {},
   "source": [
    "## 鎖住隨機性-主要用在Semantic segmentation中"
   ]
  },
  {
   "cell_type": "code",
   "execution_count": null,
   "metadata": {
    "collapsed": true
   },
   "outputs": [],
   "source": [
    "class MaskAugSequence(object):\n",
    "    def __init__(self, sequence):\n",
    "        self.sequence = sequence\n",
    "\n",
    "    def __call__(self, image, mask):\n",
    "        sequence = self.sequence.to_deterministic() ##用來關閉隨機性\n",
    "        image = sequence.augment_image(image)\n",
    "        mask = sequence.augment_image(mask)\n",
    "        image,  mask= image.astype(np.float32), mask.astype(np.float32)\n",
    "        return image,  mask"
   ]
  },
  {
   "cell_type": "code",
   "execution_count": null,
   "metadata": {
    "collapsed": true
   },
   "outputs": [],
   "source": []
  }
 ],
 "metadata": {
  "kernelspec": {
   "display_name": "Python 3",
   "language": "python",
   "name": "python3"
  },
  "language_info": {
   "codemirror_mode": {
    "name": "ipython",
    "version": 3
   },
   "file_extension": ".py",
   "mimetype": "text/x-python",
   "name": "python",
   "nbconvert_exporter": "python",
   "pygments_lexer": "ipython3",
   "version": "3.6.1"
  }
 },
 "nbformat": 4,
 "nbformat_minor": 2
}
