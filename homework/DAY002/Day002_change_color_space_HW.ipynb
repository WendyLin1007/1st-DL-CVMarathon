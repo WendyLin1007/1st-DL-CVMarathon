{
 "cells": [
  {
   "cell_type": "markdown",
   "metadata": {},
   "source": [
    "# 作業\n",
    "\n",
    "使用 [Lena](http://optipng.sourceforge.net/pngtech/img/lena.png)\n",
    "\n",
    "- 改變圖片的 color space (`HLS`, `LAB`) 並呈現"
   ]
  },
  {
   "cell_type": "code",
   "execution_count": 3,
   "metadata": {
    "collapsed": true
   },
   "outputs": [],
   "source": [
    "import cv2\n",
    "\n",
    "img = 'lena.png'\n",
    "\n",
    "img_rgb = cv2.imread(img, cv2.IMREAD_COLOR)\n",
    "\n",
    "img_hls = cv2.cvtColor(img_rgb, cv2.COLOR_BGR2HLS)\n",
    "img_lab = cv2.cvtColor(img_rgb, cv2.COLOR_BGR2LAB)\n",
    "\n",
    "while True:\n",
    "    cv2.imshow('BGR', img_rgb)\n",
    "    cv2.imshow('HLS', img_hls)\n",
    "    cv2.imshow('LAB', img_lab)\n",
    "\n",
    "    k = cv2.waitKey(0)\n",
    "    if k == 27:\n",
    "        cv2.destroyAllWindows()\n",
    "        break"
   ]
  }
 ],
 "metadata": {
  "kernelspec": {
   "display_name": "Python 3",
   "language": "python",
   "name": "python3"
  },
  "language_info": {
   "codemirror_mode": {
    "name": "ipython",
    "version": 3
   },
   "file_extension": ".py",
   "mimetype": "text/x-python",
   "name": "python",
   "nbconvert_exporter": "python",
   "pygments_lexer": "ipython3",
   "version": "3.6.2"
  }
 },
 "nbformat": 4,
 "nbformat_minor": 2
}
