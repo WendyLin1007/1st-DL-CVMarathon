{
 "cells": [
  {
   "cell_type": "markdown",
   "metadata": {},
   "source": [
    "# 作業\n",
    "\n",
    "思考一下我們前面有提到圖片是矩陣，但維度可能會不一樣\n",
    "例如灰階圖只有兩個維度，RGB 彩圖則有 3 個維度\n",
    "\n",
    "假如今天我們把 RGB 3 個維度拆開來看會有甚麼不同的效果呢？"
   ]
  },
  {
   "cell_type": "code",
   "execution_count": 1,
   "metadata": {
    "collapsed": true
   },
   "outputs": [],
   "source": [
    "import cv2\n",
    "\n",
    "img = 'lena.png'\n",
    "\n",
    "# read image in RGB format\n",
    "img_rgb = cv2.imread(img, cv2.IMREAD_COLOR)\n",
    "# divide to R,G,B\n",
    "(B,G,R) = cv2.split(img_rgb)\n",
    "# read image in gray format\n",
    "img_gray = cv2.imread(img, cv2.IMREAD_GRAYSCALE)\n",
    "\n",
    "# to show image without stopping\n",
    "while True:\n",
    "    # show image\n",
    "    cv2.imshow('BGR', img_rgb)\n",
    "    cv2.imshow('BGR_R', R)\n",
    "    cv2.imshow('BGR_G', G)\n",
    "    cv2.imshow('BGR_B', B)\n",
    "    cv2.imshow('gray', img_gray)\n",
    "\n",
    "    # until press \"ESC\" to stop show image\n",
    "    k = cv2.waitKey(0)\n",
    "    if k == 27:\n",
    "        cv2.destroyAllWindows()\n",
    "        break"
   ]
  },
  {
   "cell_type": "code",
   "execution_count": null,
   "metadata": {
    "collapsed": true
   },
   "outputs": [],
   "source": []
  }
 ],
 "metadata": {
  "kernelspec": {
   "display_name": "Python 3",
   "language": "python",
   "name": "python3"
  },
  "language_info": {
   "codemirror_mode": {
    "name": "ipython",
    "version": 3
   },
   "file_extension": ".py",
   "mimetype": "text/x-python",
   "name": "python",
   "nbconvert_exporter": "python",
   "pygments_lexer": "ipython3",
   "version": "3.6.2"
  }
 },
 "nbformat": 4,
 "nbformat_minor": 2
}
